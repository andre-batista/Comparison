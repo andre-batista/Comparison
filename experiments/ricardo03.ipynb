{
 "cells": [
  {
   "cell_type": "code",
   "execution_count": 1,
   "metadata": {},
   "outputs": [],
   "source": [
    "import sys\n",
    "import numpy as np\n",
    "from numpy import pi\n",
    "from scipy.special import jv, hankel2\n",
    "from scipy.sparse import dia_matrix\n",
    "from matplotlib import pyplot as plt\n",
    "sys.path.insert(1, '../../../eispy2d/library/')\n",
    "\n",
    "# Import module\n",
    "import configuration as cfg\n",
    "import experiment as exp\n",
    "import inputdata as ipt\n",
    "import analytical as ana\n",
    "import mom_cg_fft as mom\n",
    "import imsa_pso"
   ]
  },
  {
   "cell_type": "code",
   "execution_count": 2,
   "metadata": {},
   "outputs": [],
   "source": [
    "# Transform cartesian coordinates into polar ones\n",
    "def cart2polar(x, y):\n",
    "    rho = np.sqrt(x**2 + y**2)\n",
    "    phi = np.arctan2(y, x)\n",
    "    phi[phi<0] = 2*pi + phi[phi<0]\n",
    "    return rho, phi"
   ]
  },
  {
   "cell_type": "markdown",
   "metadata": {},
   "source": [
    "# Qual impacto de aumentar-se o número de equações?\n",
    "\n",
    "Seja a função objetivo do problema dada por:\n",
    "\n",
    "$$ min f_0(\\chi, E_{z}) = \\frac{\\sum_{m=1}^M |E_{z,m}^s + \\sum_{n=1}^N h_{mn}\\chi_nE_{z,n}|^2}{\\sum_{m=1}^M |E_{z,m}^s|^2} + \\frac{\\sum_{n=1}^N |E_{z,n}^i - E_{z,n} - \\sum_{m=1}^M h_{nm}\\chi_mE_{z,m}|^2}{\\sum_{n=1}^N |E_{z,n}^i|^2} $$\n",
    "\n",
    "Se eu aumentar o número de equações através do aumento do número de medições e de incidências, o que vai acontecer com a solução? Ela terá menos ruído no final?\n",
    "\n",
    "Neste estudo iremos rodar o algoritmo do PSO para o problema analítico do cilindro circular. Anteriormente, fazíamos experimentos com 10 medições e 10 incidências. Desta vez iremos triplicar o valor: 30 medições e 30 incidências. Vale à pena observar que esse número é bem mais alto do que o número de graus de liberdade para o problema (que é aproximadamente 5$\\times$5)."
   ]
  },
  {
   "cell_type": "code",
   "execution_count": 3,
   "metadata": {},
   "outputs": [],
   "source": [
    "# General parameters\n",
    "lambdab = 1.\n",
    "saved_files_path = './data/'\n",
    "\n",
    "# Set up configurations\n",
    "config = cfg.Configuration(name='2x2',\n",
    "                           wavelength=lambdab,\n",
    "                           background_permittivity=1.0,\n",
    "                           image_size=[2., 2.],\n",
    "                           perfect_dielectric=True,\n",
    "                           number_sources=30,\n",
    "                           number_measurements=30)\n",
    "config.save(file_path=saved_files_path)"
   ]
  },
  {
   "cell_type": "markdown",
   "metadata": {},
   "source": [
    "Nesse estudo, nós iremos empregar o PSO sem a estratégia de colocar a solução exata em um dos indivíduos originais, tendo em vista que isso por si já reduz bastante a ocorrência de ruídos na imagem. A inicialização das soluções portanto é aquela original: contraste são inicializados com números aleatórios por píxel seguindo uma distribuição uniforme e o campo é inicializado com uma aproximação de Born."
   ]
  },
  {
   "cell_type": "code",
   "execution_count": 4,
   "metadata": {},
   "outputs": [],
   "source": [
    "# Configuration of resolution reconstruction process\n",
    "resolution = (7, 7)\n",
    "number_iterations = 20000\n",
    "number_particles = 250\n",
    "MIWI = 20000  # Maximum number of iterations without improvement\n",
    "\n",
    "# Set up methods\n",
    "methods = imsa_pso.IMSA_PSO(config,\n",
    "                            resolution,\n",
    "                            alias='pso',\n",
    "                            number_particles=250,\n",
    "                            number_iterations=number_iterations,\n",
    "                            max_iterations_without_improvement=MIWI)\n",
    "\n",
    "# Build input object\n",
    "scenario = ipt.InputData(name='dielectric_cylinder',\n",
    "                         configuration_filename=config.name,\n",
    "                         resolution=resolution,\n",
    "                         noise=0.,\n",
    "                         compute_map_error=True,\n",
    "                         compute_residual_error=True,\n",
    "                         compute_totalfield_error=True)\n",
    "\n",
    "# Solve forward problem analytically\n",
    "analytical_solution = ana.Analytical(config, number_terms=100)\n",
    "analytical_solution.solve(scenario, contrast=1.,\n",
    "                          SAVE_MAP=True,\n",
    "                          radius_proportion=0.4)"
   ]
  },
  {
   "cell_type": "markdown",
   "metadata": {},
   "source": [
    "A solução exata tem a seguinte avaliação:"
   ]
  },
  {
   "cell_type": "code",
   "execution_count": 5,
   "metadata": {},
   "outputs": [
    {
     "name": "stdout",
     "output_type": "stream",
     "text": [
      "Exact solution evaluation: 4.214e-01\n"
     ]
    },
    {
     "data": {
      "image/png": "[encoded data removed]",
      "text/plain": [
       "<Figure size 432x288 with 3 Axes>"
      ]
     },
     "metadata": {
      "needs_background": "light"
     },
     "output_type": "display_data"
    }
   ],
   "source": [
    "# Computing the incident field\n",
    "M = config.NM\n",
    "N = resolution[0]*resolution[1]\n",
    "x, y = cfg.get_coordinates_ddomain(configuration=config, resolution=resolution)\n",
    "rho, phi = cart2polar(x, y)\n",
    "Eiz = analytical_solution.incident_field(resolution)\n",
    "cell_area = np.sqrt((x[0, 1]-x[0, 0])*(y[1, 0]-y[0, 0])/pi)\n",
    "xm, ym = cfg.get_coordinates_sdomain(config.Ro, config.NM)\n",
    "kb = config.kb\n",
    "\n",
    "# Data equation\n",
    "HD = np.zeros((M, N), dtype=complex)\n",
    "for m in range(M):\n",
    "    R = np.sqrt((x-xm[m])**2 + (y-ym[m])**2).flatten()\n",
    "    HD[m, :] = 1j*pi*kb*cell_area/2*jv(1, kb*cell_area)*hankel2(0, kb*R)\n",
    "\n",
    "# State Equation\n",
    "HS = np.zeros((N, N), dtype=complex)\n",
    "for k in range(N):\n",
    "    i, j = np.unravel_index(k, resolution)\n",
    "    R = np.sqrt((x-x[i, j])**2 + (y-y[i, j])**2).flatten()\n",
    "    HS[k, :] = 1j*pi*kb*cell_area/2*jv(1, kb*cell_area)*hankel2(0, kb*R)\n",
    "    HS[k, R==0] = 1j/2*(pi*kb*cell_area*hankel2(1, kb*cell_area)-2j)\n",
    "\n",
    "chi = scenario.epsilon_r/config.epsilon_rb - 1\n",
    "fxexct = imsa_pso.Phi_eval([dia_matrix((chi.flatten(), 0), shape=(N, N))],\n",
    "                           [scenario.et],\n",
    "                           [HD],\n",
    "                           [HS],\n",
    "                           scenario.es,\n",
    "                           [Eiz])\n",
    "\n",
    "fig, axis = plt.subplots(ncols=2, sharey=True)\n",
    "\n",
    "img = axis[0].imshow(scenario.epsilon_r, extent=[-config.Lx/2/config.lambda_b, config.Lx/2/config.lambda_b, -config.Ly/2/config.lambda_b, config.Ly/2/config.lambda_b])\n",
    "clb = fig.colorbar(img, ax=axis[0], fraction=0.046, pad=0.04)\n",
    "clb.set_label(r'$\\epsilon_r$')\n",
    "axis[0].set_xlabel(r'$x [\\lambda_b]$')\n",
    "axis[0].set_ylabel(r'$y [\\lambda_b]$')\n",
    "axis[0].set_title('Exact contrast profile')\n",
    "\n",
    "axis[1].set_visible(False)\n",
    "\n",
    "print('Exact solution evaluation: %.3e' % fxexct)"
   ]
  },
  {
   "cell_type": "markdown",
   "metadata": {},
   "source": [
    "É interessante observar que a avaliação é a mesma de quando o problema tinha 10 medições por 10 incidências. Embora a quantidade de equações tanto de dados quanto de estados tenha subido, o valor da soma ponderada não mudou. Isso provavelmente está relacionado com a ponderação que leva em conta esse tipo de informação. Ou seja, esse tipo de ponderação equilibra a avaliação de modo soluções de problemas com dimensões maiores sejam comparáveis do ponto de vista de avaliação da função objetivo.\n",
    "\n",
    "A execução do algoritmo segue abaixo:"
   ]
  },
  {
   "cell_type": "code",
   "execution_count": 6,
   "metadata": {},
   "outputs": [
    {
     "name": "stdout",
     "output_type": "stream",
     "text": [
      "==============================================================\n",
      "Method: IMSA-PSO\n",
      "Alias: pso\n",
      "Problem configuration: 2x2\n",
      "Instance: dielectric_cylinder\n",
      "Number of particles (P): 250\n",
      "c1 = 2.0, c2 = 2.0, w = 0.4\n",
      "Scaling steps (S): 1\n",
      "Resolution steps: (7, 7)\n",
      "Number of iterations: 20000\n",
      "Number of executions: 1\n",
      "Minimum contrast allowed: 0.000e+00\n",
      "Maximum contrast allowed: 1.000e+00\n",
      "Storing the best recovered image\n",
      "Percent step for convergence sampling: 10.0\n",
      "----------------------------------------\n",
      "Scaling iteration 0 - Resolution:  (7, 7) , Area 4.000000\n",
      "  PSO Iteration 0 - Best Phi(x): 1.612e+01\n",
      "  PSO Iteration 2000 - Best Phi(x): 4.921e+00\n",
      "  PSO Iteration 4000 - Best Phi(x): 2.151e+00\n",
      "  PSO Iteration 6000 - Best Phi(x): 1.593e+00\n",
      "  PSO Iteration 8000 - Best Phi(x): 1.307e+00\n",
      "  PSO Iteration 10000 - Best Phi(x): 1.078e+00\n",
      "  PSO Iteration 12000 - Best Phi(x): 1.028e+00\n",
      "  PSO Iteration 14000 - Best Phi(x): 9.413e-01\n",
      "  PSO Iteration 16000 - Best Phi(x): 9.101e-01\n",
      "  PSO Iteration 18000 - Best Phi(x): 8.604e-01\n",
      "  PSO Iteration 19999 - Best Phi(x): 8.535e-01\n"
     ]
    }
   ],
   "source": [
    "result = methods.solve(scenario, max_contrast=1.0, print_info=True, number_executions=1, run_parallelly=False)"
   ]
  },
  {
   "cell_type": "markdown",
   "metadata": {},
   "source": [
    "Nota-se que a avaliação da solução final obtida foi muita mais próxima (isso em somente uma execução) do que quando o algoritmo era rodado com 10 medições e 10 incidências. Como o algoritmo ainda se encontrava em processo de convergência, é possível que com mais interações o algoritmo chegasse a algo mais próximo da solução analítica (embora o número de iterações já represente um custo alto)."
   ]
  },
  {
   "cell_type": "code",
   "execution_count": 7,
   "metadata": {},
   "outputs": [
    {
     "data": {
      "image/png": "[encoded data removed]",
      "text/plain": [
       "<Figure size 432x360 with 2 Axes>"
      ]
     },
     "metadata": {
      "needs_background": "light"
     },
     "output_type": "display_data"
    }
   ],
   "source": [
    "result.plot_map(show=True)"
   ]
  },
  {
   "cell_type": "markdown",
   "metadata": {},
   "source": [
    "A imagem de contraste da solução final obtida já tem um aspecto que lembra um pouco a solução analítica. É possível ver que os píxels da borda receberam um valor menor de contraste e o píxels do centro receberam um valor maior. No entanto, nota-se o valor máximo de contraste recuperado é um pouco abaixo do valor da solução exata. De qualquer maneira, parece que o algoritmo caminhou para a região onde a solução analítica encontra, o que significaria também menos ruído na imagem reconstruída.\n",
    "\n",
    "Seria interessante observar como isso se comporta com um número maior de píxels, onde ruídos são mais frequentes exatamente pelo problema ser bem maior."
   ]
  }
 ],
 "metadata": {
  "kernelspec": {
   "display_name": "Python 3",
   "language": "python",
   "name": "python3"
  },
  "language_info": {
   "codemirror_mode": {
    "name": "ipython",
    "version": 3
   },
   "file_extension": ".py",
   "mimetype": "text/x-python",
   "name": "python",
   "nbconvert_exporter": "python",
   "pygments_lexer": "ipython3",
   "version": "3.8.3"
  }
 },
 "nbformat": 4,
 "nbformat_minor": 4
}

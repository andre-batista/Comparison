{
 "cells": [
  {
   "cell_type": "code",
   "execution_count": 9,
   "metadata": {},
   "outputs": [],
   "source": [
    "import sys\n",
    "import numpy as np\n",
    "from numpy import pi\n",
    "from scipy.special import jv, hankel2\n",
    "from scipy.sparse import dia_matrix\n",
    "from matplotlib import pyplot as plt\n",
    "sys.path.insert(1, '../../../eispy2d/library/')\n",
    "\n",
    "# Import module\n",
    "import configuration as cfg\n",
    "import experiment as exp\n",
    "import inputdata as ipt\n",
    "import analytical as ana\n",
    "import mom_cg_fft as mom\n",
    "import imsa_pso"
   ]
  },
  {
   "cell_type": "code",
   "execution_count": 2,
   "metadata": {},
   "outputs": [],
   "source": [
    "# Transform cartesian coordinates into polar ones\n",
    "def cart2polar(x, y):\n",
    "    rho = np.sqrt(x**2 + y**2)\n",
    "    phi = np.arctan2(y, x)\n",
    "    phi[phi<0] = 2*pi + phi[phi<0]\n",
    "    return rho, phi"
   ]
  },
  {
   "cell_type": "code",
   "execution_count": 3,
   "metadata": {},
   "outputs": [],
   "source": [
    "# General parameters\n",
    "lambdab = 1.\n",
    "saved_files_path = './data/'\n",
    "\n",
    "# Set up configurations\n",
    "config = cfg.Configuration(name='2x2',\n",
    "                           wavelength=lambdab,\n",
    "                           background_permittivity=1.0,\n",
    "                           image_size=[2., 2.],\n",
    "                           perfect_dielectric=True,\n",
    "                           number_sources=10,\n",
    "                           number_measurements=10)\n",
    "config.save(file_path=saved_files_path)"
   ]
  },
  {
   "cell_type": "code",
   "execution_count": 4,
   "metadata": {},
   "outputs": [],
   "source": [
    "# Configuration of resolution reconstruction process\n",
    "resolution = (7, 7)\n",
    "number_iterations = 20000\n",
    "number_particles = 250\n",
    "MIWI = 20000  # Maximum number of iterations without improvement\n",
    "\n",
    "# Set up methods\n",
    "methods = imsa_pso.IMSA_PSO(config,\n",
    "                            resolution,\n",
    "                            alias='pso',\n",
    "                            number_particles=250,\n",
    "                            number_iterations=number_iterations,\n",
    "                            max_iterations_without_improvement=MIWI)\n",
    "\n",
    "# Build input object\n",
    "scenario = ipt.InputData(name='dielectric_cylinder',\n",
    "                         configuration_filename=config.name,\n",
    "                         resolution=resolution,\n",
    "                         noise=0.,\n",
    "                         compute_map_error=True,\n",
    "                         compute_residual_error=True,\n",
    "                         compute_totalfield_error=True)\n",
    "\n",
    "# Solve forward problem analytically\n",
    "analytical_solution = ana.Analytical(config, number_terms=100)\n",
    "analytical_solution.solve(scenario, contrast=1.,\n",
    "                          SAVE_MAP=True,\n",
    "                          radius_proportion=0.4)"
   ]
  },
  {
   "cell_type": "markdown",
   "metadata": {},
   "source": [
    "# Se o algoritmo começar pela solução analítica, ele vai achar outra melhor?\n",
    "\n",
    "Seja a função objetivo dada por:\n",
    "\n",
    "$$ min f_0(\\chi, E_{z}) = \\frac{\\sum_{m=1}^M |E_{z,m}^s + \\sum_{n=1}^N h_{mn}\\chi_nE_{z,n}|^2}{\\sum_{m=1}^M |E_{z,m}^s|^2} + \\frac{\\sum_{n=1}^N |E_{z,n}^i - E_{z,n} - \\sum_{m=1}^M h_{nm}\\chi_mE_{z,m}|^2}{\\sum_{n=1}^N |E_{z,n}^i|^2} $$\n",
    "\n",
    "Essa é a soma ponderada dos resíduos das equações de dados e estados. A solução analítica para $\\chi$ e $E_z$ pode ser calculada considerando o problema do espalhamento sobre um cilindro circular. Nesse caso o valor da função-objetivo é calculado por:"
   ]
  },
  {
   "cell_type": "code",
   "execution_count": 10,
   "metadata": {},
   "outputs": [
    {
     "name": "stdout",
     "output_type": "stream",
     "text": [
      "Exact solution evaluation: 4.214e-01\n"
     ]
    },
    {
     "data": {
      "image/png": "[encoded data removed]",
      "text/plain": [
       "<Figure size 432x288 with 3 Axes>"
      ]
     },
     "metadata": {
      "needs_background": "light"
     },
     "output_type": "display_data"
    }
   ],
   "source": [
    "# Computing the incident field\n",
    "M = config.NM\n",
    "N = resolution[0]*resolution[1]\n",
    "x, y = cfg.get_coordinates_ddomain(configuration=config, resolution=resolution)\n",
    "rho, phi = cart2polar(x, y)\n",
    "Eiz = analytical_solution.incident_field(resolution)\n",
    "cell_area = np.sqrt((x[0, 1]-x[0, 0])*(y[1, 0]-y[0, 0])/pi)\n",
    "xm, ym = cfg.get_coordinates_sdomain(config.Ro, config.NM)\n",
    "kb = config.kb\n",
    "\n",
    "# Data equation\n",
    "HD = np.zeros((M, N), dtype=complex)\n",
    "for m in range(M):\n",
    "    R = np.sqrt((x-xm[m])**2 + (y-ym[m])**2).flatten()\n",
    "    HD[m, :] = 1j*pi*kb*cell_area/2*jv(1, kb*cell_area)*hankel2(0, kb*R)\n",
    "\n",
    "# State Equation\n",
    "HS = np.zeros((N, N), dtype=complex)\n",
    "for k in range(N):\n",
    "    i, j = np.unravel_index(k, resolution)\n",
    "    R = np.sqrt((x-x[i, j])**2 + (y-y[i, j])**2).flatten()\n",
    "    HS[k, :] = 1j*pi*kb*cell_area/2*jv(1, kb*cell_area)*hankel2(0, kb*R)\n",
    "    HS[k, R==0] = 1j/2*(pi*kb*cell_area*hankel2(1, kb*cell_area)-2j)\n",
    "\n",
    "# Exact contrast\n",
    "chi = scenario.epsilon_r/config.epsilon_rb - 1\n",
    "\n",
    "# Evaluation of the exact solution\n",
    "fxexct = imsa_pso.Phi_eval([dia_matrix((chi.flatten(), 0), shape=(N, N))],\n",
    "                           [scenario.et],\n",
    "                           [HD],\n",
    "                           [HS],\n",
    "                           scenario.es,\n",
    "                           [Eiz])\n",
    "\n",
    "# Plot the exact constrast profile\n",
    "fig, axis = plt.subplots(ncols=2, sharey=True)\n",
    "img = axis[0].imshow(scenario.epsilon_r, extent=[-config.Lx/2/config.lambda_b, config.Lx/2/config.lambda_b, -config.Ly/2/config.lambda_b, config.Ly/2/config.lambda_b])\n",
    "clb = fig.colorbar(img, ax=axis[0], fraction=0.046, pad=0.04)\n",
    "clb.set_label(r'$\\epsilon_r$')\n",
    "axis[0].set_xlabel(r'$x [\\lambda_b]$')\n",
    "axis[0].set_ylabel(r'$y [\\lambda_b]$')\n",
    "axis[0].set_title('Exact contrast profile')\n",
    "axis[1].set_visible(False)\n",
    "\n",
    "# Print fitness evaluation\n",
    "print('Exact solution evaluation: %.3e' % fxexct)"
   ]
  },
  {
   "cell_type": "markdown",
   "metadata": {},
   "source": [
    "A inicialização do algoritmo do PSO é feita através de uma randomização dos valores dos valores de contraste em cada píxel e o campo é calculado a partir da equação de estados com a Aproximação de Born de Primeira Ordem. Em um teste realizado desta forma, a solução final após 20000 iterações ainda ficou um pouco longe em termos da avaliação da função objetivo (cerca de 10 vezes maior).\n",
    "\n",
    "Como o objetivo é verificar se o algoritmo vai encontrar alguma solução com uma avaliação mais baixa que a analítica, foi experimentado alterar código da seguinte forma: após a inicialização das soluções conforme descrito no parágrafo anterior, a primeira solução é substituída pela solução analítica. É de se esperar que a melhor solução da primeira iteração seja essa. E será observado se vai ser encontrada outra solução com uma avaliação menor ao longo da convergência:"
   ]
  },
  {
   "cell_type": "code",
   "execution_count": 6,
   "metadata": {},
   "outputs": [
    {
     "name": "stdout",
     "output_type": "stream",
     "text": [
      "==============================================================\n",
      "Method: IMSA-PSO\n",
      "Alias: pso\n",
      "Problem configuration: 2x2\n",
      "Instance: dielectric_cylinder\n",
      "Number of particles (P): 250\n",
      "c1 = 2.0, c2 = 2.0, w = 0.4\n",
      "Scaling steps (S): 1\n",
      "Resolution steps: (7, 7)\n",
      "Number of iterations: 20000\n",
      "Number of executions: 1\n",
      "Minimum contrast allowed: 0.000e+00\n",
      "Maximum contrast allowed: 1.000e+00\n",
      "Storing the best recovered image\n",
      "Percent step for convergence sampling: 10.0\n",
      "----------------------------------------\n",
      "Scaling iteration 0 - Resolution:  (7, 7) , Area 4.000000\n",
      "  PSO Iteration 0 - Best Phi(x): 4.214e-01\n",
      "  PSO Iteration 2000 - Best Phi(x): 1.312e-01\n",
      "  PSO Iteration 4000 - Best Phi(x): 1.207e-01\n",
      "  PSO Iteration 6000 - Best Phi(x): 1.200e-01\n",
      "  PSO Iteration 8000 - Best Phi(x): 1.196e-01\n",
      "  PSO Iteration 10000 - Best Phi(x): 1.196e-01\n",
      "  PSO Iteration 12000 - Best Phi(x): 1.196e-01\n",
      "  PSO Iteration 14000 - Best Phi(x): 1.196e-01\n",
      "  PSO Iteration 16000 - Best Phi(x): 1.196e-01\n",
      "  PSO Iteration 18000 - Best Phi(x): 1.196e-01\n",
      "  PSO Iteration 19999 - Best Phi(x): 1.196e-01\n"
     ]
    }
   ],
   "source": [
    "result = methods.solve(scenario, max_contrast=1.0, print_info=True, number_executions=1, run_parallelly=False)"
   ]
  },
  {
   "cell_type": "markdown",
   "metadata": {},
   "source": [
    "Como se pode observar, após 10% das iterações, foi encontrada uma solução com uma avaliação aproximadamente 4 vezes menor. Após 40% das iterações, não foi encontrada alguma solução com um valor de avaliação significantemente menor. Vejamos a imagem recuperada no final:"
   ]
  },
  {
   "cell_type": "code",
   "execution_count": 7,
   "metadata": {},
   "outputs": [
    {
     "data": {
      "image/png": "[encoded data removed]",
      "text/plain": [
       "<Figure size 432x360 with 2 Axes>"
      ]
     },
     "metadata": {
      "needs_background": "light"
     },
     "output_type": "display_data"
    }
   ],
   "source": [
    "result.plot_map(show=True)"
   ]
  },
  {
   "cell_type": "markdown",
   "metadata": {},
   "source": [
    "A solução final é parecida com a solução analítica. As diferenças são alguns pixels na borda com um valor pouco acima do *background* e os valores nas diagonais do desenho da solução analítica (que pode ser interpretado como uma espécie de suavização da função talvez).\n",
    "\n",
    "O fato dessa solução não ter mudado a partir de 40% das iterações pode talvez ser interpretado como: a solução analítica é um ponto dentro da bacia de atração da função objetivo e o mínimo seria essa solução final obtida. Isso não responde se existem outras bacias de atração dentro da função que tenham um valor de função objetivo ainda menor. Essas outras bacias poderiam talvez serem encontradas no procedimento de inicialização totalmente aleatório. Mas é possível que demorem muitas iterações para serem encontradas pelo algoritmo. Talvez um outro algoritmo como o L-SHADE poderia encontrar essas outras bacias com menos iterações.\n",
    "\n",
    "Mas, de fato, considerando essa formulação de função objetivo, tem outras soluções com avaliação menor que a exata. Poderíamos perguntar se essas soluções sempre estão na bacia da solução exata ou as soluções que estão dentro da bacia da solução exata sempre estão pouco distantes da exata. Além disso, é necessário recordar que essa instância foi gerada a partir de um problema analítico, ou seja, os erros nos dados de entrada são bem pequenos. Por causa disso, poderíamos nos perguntar se, com dados menos precisos, a posição da solução exata dentro da bacia e a existências de outras bacias com mínimos menores iriam ser semelhantes aos observados nessa instância.\n",
    "\n",
    "Por fim, uma outra pergunta que poderia ser levantada a partir desse estudo é se uma malha com mais nós mudaria o que foi observado. Pelo fato disso significar um problema com mais variáveis ainda, isso com certeza dificultaria o processo de algoritmo normal chegar a bacia da solução analítica. No entanto, esse tipo de caso poderia trazer mais respostas à questão de ter ou não outras bacias com mínimos locais mais baixos que da bacia da analítica."
   ]
  }
 ],
 "metadata": {
  "kernelspec": {
   "display_name": "Python 3",
   "language": "python",
   "name": "python3"
  },
  "language_info": {
   "codemirror_mode": {
    "name": "ipython",
    "version": 3
   },
   "file_extension": ".py",
   "mimetype": "text/x-python",
   "name": "python",
   "nbconvert_exporter": "python",
   "pygments_lexer": "ipython3",
   "version": "3.8.3"
  }
 },
 "nbformat": 4,
 "nbformat_minor": 4
}

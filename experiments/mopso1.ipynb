{
 "cells": [
  {
   "cell_type": "code",
   "execution_count": 1,
   "metadata": {},
   "outputs": [],
   "source": [
    "# Standard librares\n",
    "import numpy as np\n",
    "from numpy import pi\n",
    "from scipy.constants import epsilon_0, mu_0\n",
    "from scipy.special import jv, jvp, hankel2, h2vp\n",
    "from matplotlib import pyplot as plt\n",
    "from scipy.sparse import dia_matrix\n",
    "from scipy.linalg import norm\n",
    "from numpy import random as rnd\n",
    "\n",
    "# Transform cartesian coordinates into polar ones\n",
    "def cart2polar(x, y):\n",
    "    rho = np.sqrt(x**2 + y**2)\n",
    "    phi = np.arctan2(y, x)\n",
    "    phi[phi<0] = 2*pi + phi[phi<0]\n",
    "    return rho, phi"
   ]
  },
  {
   "cell_type": "markdown",
   "metadata": {},
   "source": [
    "# The Multi-Objective EIS Problem\n",
    "\n",
    "The Electromagnetic Inverse Scattering (EIS) problem has been considered in the literature as a mono-objective one throughout the years. However, in many formulations, the objective function is written in terms of a weighted sum, which is a common approach to multi-objective problems. In this case, the objective functions are addressed together and the optimization problem is converted to a mono-objective one.\n",
    "\n",
    "The multi-objective approaches are considered when two or more objectives are conflicting, i.e., where there is a trade-off between the objectives. In these cases, we might convert the problem into a mono-objective one through the weighted sum; we might turn all objective functions (excepting one) into constraints and solve the mono-objective problem for the remaining function ($\\epsilon$-constrainted); or we might address all objectives together in order to obtain not one but a set of solutions called **Pareto Set of Solutions**. This set are solutions which are incomparable among themselves, i.e., we can not decide which one is the best or worse since each one represents a trade-off among the objectives. Fortunatelly, there are efficient algorithms for this kind of optimization problem.\n",
    "\n",
    "In EIS problems, we are commonly dealing with the minimization of the residuals of the data and state equations. Futhermore, regularization terms are usually added in order to address the ill-posedness of problem, such as the Tikhnov and the Total Variation functionals. Most of the methods proposed in the literature address the weighted sum of these functionals and it has not been found references for a multi-objective approach.\n",
    "\n",
    "Therefore, we will run a single demonstration of a basic multi-objective methodology considering the following functionals:\n",
    "\n",
    "$$ \\min f_0(\\chi, E_{z}) = \\sum_{m=1}^M |E_{z,m}^s + \\sum_{n=1}^N h_{mn}\\chi_nE_{z,n}|^2 \\\\\n",
    "\\min f_1(\\chi, E_{z}) = \\sum_{n=1}^N |E_{z,n}^i - E_{z,n} - \\sum_{m=1}^M h_{nm}\\chi_mE_{z,m}|^2 $$"
   ]
  },
  {
   "cell_type": "code",
   "execution_count": 2,
   "metadata": {},
   "outputs": [],
   "source": [
    "def feval(X, Ez, HD, HS, Esz, Eiz):\n",
    "    f0 = np.sum(np.abs(Esz + HD @ X @ Ez)**2)\n",
    "    f1 = np.sum(np.abs(Eiz - Ez - HS @ X @ Ez)**2)\n",
    "    return f0, f1"
   ]
  },
  {
   "cell_type": "markdown",
   "metadata": {},
   "source": [
    "## The Multi-Objective Particle Swarm Optimization\n",
    "\n",
    "The Particle Swarm Optimization (PSO) algorithm is a commonly applied to the EIS problem. However, when we apply it into a multi-objective problem, it is necessary to adapt the structure of personal and global solutions. Instead of storing a single global solution, we are going to store a set, called *Archive*. In this set we are going to store all the *non-dominated* individuals found by the algorithm, i.e., the solutions which can not be compared among themselves but are better in both objectives in respect to all others found by the algorithm.\n",
    "\n",
    "The way in which the Archive is updated is an important aspect of the algorithm. Considering an arbitraty solution, it will be added into the Archive in this implementation if one of the following rules may apply:\n",
    "\n",
    "1. If the Archive is empty;\n",
    "2. If it dominates one or more solutions in the Archive, then it will replace all the dominated solutions;\n",
    "3. If it is not dominated by any of the solutions in the Archive and:\n",
    "  1. If the Archive is not full, the solution is added;\n",
    "  2. The solution is added and the solution with the smallest *crowding distance* measure is removed."
   ]
  },
  {
   "cell_type": "code",
   "execution_count": 3,
   "metadata": {},
   "outputs": [],
   "source": [
    "def update_archive(PX, PE, fx, gxbest, gebest, fx_gbest, MAX_ARCHIVE):\n",
    "    \"\"\"Update the archive given a population of solutions.\"\"\"\n",
    "\n",
    "    N = len(gxbest)  # Current size of Archive\n",
    "\n",
    "    # If the Archive is empty, the first solution is added\n",
    "    if N == 0:\n",
    "        gxbest.append(PX[0, :].copy())\n",
    "        gebest.append(PE[0, :].copy())\n",
    "        fx_gbest.append(fx[0, :].copy())\n",
    "        i0 = 1\n",
    "    else:\n",
    "        i0 = 0\n",
    "\n",
    "    # For each solution in the population \n",
    "    for i in range(i0, PX.shape[0]):\n",
    "\n",
    "        # Compare the solution to the ones in the Archive\n",
    "        dominated_solutions, nondominated_solution = compare2archive(fx[i, :], fx_gbest)\n",
    "\n",
    "        # The solution is dominated by any solution in the Archive, skip to the next\n",
    "        if not nondominated_solution:\n",
    "            continue\n",
    "\n",
    "        # If the solution dominates one or more solutions in the Archive\n",
    "        elif len(dominated_solutions) > 0:\n",
    "\n",
    "            # Remove the dominated solutions\n",
    "            for j in range(len(dominated_solutions)-1, -1, -1):\n",
    "                gxbest.pop(dominated_solutions[j])\n",
    "                gebest.pop(dominated_solutions[j])\n",
    "                fx_gbest.pop(dominated_solutions[j])\n",
    "\n",
    "            # Add the new one\n",
    "            gxbest.append(PX[i, :].copy())\n",
    "            gebest.append(PE[i, :].copy())\n",
    "            fx_gbest.append(fx[i, :].copy())\n",
    "\n",
    "        # If it does not dominate nor is dominated and the Archive is not full, add it\n",
    "        elif len(gxbest) < MAX_ARCHIVE:\n",
    "            gxbest.append(PX[i, :].copy())\n",
    "            gebest.append(PE[i, :].copy())\n",
    "            fx_gbest.append(fx[i, :].copy())\n",
    "\n",
    "        # Otherwise...\n",
    "        else:\n",
    "\n",
    "            # add it...\n",
    "            gxbest.append(PX[i, :].copy())\n",
    "            gebest.append(PE[i, :].copy())\n",
    "            fx_gbest.append(fx[i, :].copy())\n",
    "\n",
    "            # Compute the Crowding Distance measure\n",
    "            dist = crowding_distance(fx_gbest)\n",
    "\n",
    "            # Remove the one with the smallest measure\n",
    "            j = np.argmin(dist)\n",
    "            gxbest.pop(j)\n",
    "            gebest.pop(j)\n",
    "            fx_gbest.pop(j)\n",
    "\n",
    "    # Keep the archive sorted\n",
    "    gxbest, gebest, fx_gbest = sort_archive(gxbest, gebest, fx_gbest)\n",
    "    return gxbest, gebest, fx_gbest\n",
    "\n",
    "def compare2archive(fx0, fx):\n",
    "    \"\"\"Determine if a solution dominates or is dominated by the solutions in the Archive.\"\"\"\n",
    "    dominated_solutions = []\n",
    "    nondominated_solution = True\n",
    "    for i in range(len(fx)):\n",
    "\n",
    "        # It dominates\n",
    "        if fx0[0] <= fx[i][0] and fx0[1] <= fx[i][1]:\n",
    "            dominated_solutions.append(i)\n",
    "\n",
    "        # It is dominated\n",
    "        elif fx0[0] >= fx[i][0] and fx0[1] >= fx[i][1]:\n",
    "            nondominated_solution = False\n",
    "            break\n",
    "\n",
    "    return dominated_solutions, nondominated_solution\n",
    "\n",
    "def sort_archive(PX, PE, fx):\n",
    "    \"\"\"Sort the archive.\"\"\"\n",
    "    array = []\n",
    "    for i in range(len(fx)):\n",
    "        array.append(fx[i][0])\n",
    "    idx = np.argsort(array)\n",
    "    new_px, new_pe, new_fx = [], [], []\n",
    "    for i in range(len(fx)):\n",
    "        new_px.append(PX[idx[i]])\n",
    "        new_pe.append(PE[idx[i]])\n",
    "        new_fx.append(fx[idx[i]])\n",
    "    return new_px, new_pe, new_fx\n",
    "\n",
    "def crowding_distance(fx_gbest):\n",
    "    \"\"\"Crowding Distance measure.\"\"\"\n",
    "    M = len(fx_gbest)\n",
    "    dist = np.zeros(M)\n",
    "    fx = np.zeros((2, M))\n",
    "    for m in range(M):\n",
    "        fx[0, m] = fx_gbest[m][0]\n",
    "        fx[1, m] = fx_gbest[m][1]\n",
    "    idx = np.argsort(fx[0, :])\n",
    "    dist[idx[0]] = np.inf\n",
    "    dist[idx[-1]] = np.inf\n",
    "    for m in range(1, M-1):\n",
    "        dist[idx[m]] += (fx[0, idx[m+1]]-fx[0, idx[m-1]])/(fx[0, idx[-1]]-fx[0, idx[0]])\n",
    "    idx = np.argsort(fx[1, :])\n",
    "    for m in range(1, M-1):\n",
    "        dist[idx[m]] += (fx[1, idx[m+1]]-fx[1, idx[m-1]])/(fx[1, idx[-1]]-fx[1, idx[0]])\n",
    "    return dist"
   ]
  },
  {
   "cell_type": "markdown",
   "metadata": {},
   "source": [
    "## Scattering of a circular cylinder\n",
    "\n",
    "The scattering problem considered in this demonstration is a simple one: the scattering of a circular cylinder when a single plane incident wave is present. This is a problem with an analytic solution. The following paraterms for the problem are considered:\n",
    "\n",
    "* Radius of the circle ($a$): $0.25\\lambda$;\n",
    "* Relative permittivity of the object ($\\epsilon_{rd}$): $2.0$;\n",
    "* Radius of observation ($R_O$): $2\\lambda$;\n",
    "* Number of measurements ($M$): $10$;\n",
    "* Resolution of the recovered image: $10\\times10$."
   ]
  },
  {
   "cell_type": "code",
   "execution_count": 4,
   "metadata": {},
   "outputs": [],
   "source": [
    "# Parameters\n",
    "lambdab = 1.0  # [1/m]\n",
    "a = 0.25*lambdab\n",
    "epsilon_rd = 2.0\n",
    "Ro = 2*lambdab\n",
    "M = 10\n",
    "resolution = (10, 10)\n",
    "\n",
    "# Constants\n",
    "E0 = 1.0  # [V/m]\n",
    "kb = 2*pi/lambdab\n",
    "f = 1/np.sqrt(epsilon_0*mu_0)/lambdab\n",
    "omega = 2*pi*f\n",
    "Lx, Ly = lambdab, lambdab\n",
    "kd = omega*np.sqrt(epsilon_rd*epsilon_0*mu_0)\n",
    "lamdad = 2*pi/kd\n",
    "epsilon_d = epsilon_rd*epsilon_0\n",
    "\n",
    "# Computing scattered field\n",
    "NT = 100\n",
    "n = np.arange(-NT, NT+1, dtype=float)\n",
    "an = -jv(n, kb*a)/hankel2(n, kb*a) * (epsilon_d*jvp(n, kd*a)/(epsilon_0*kd*a*jv(n, kd*a)) - jvp(n, kb*a)/(kb*a*jv(n, kb*a))) / (epsilon_d*jvp(n, kd*a)/(epsilon_0*kd*a*jv(n, kd*a)) - h2vp(n, kb*a)/(kb*a*hankel2(n, kb*a)))\n",
    "phi = np.linspace(0, 2*pi, M, endpoint=False)\n",
    "Esz = np.zeros(phi.size, dtype=complex)\n",
    "for i in range(M):\n",
    "    Esz[i] = E0*np.sum(1j**(-n)*an*hankel2(n, kb*Ro)*np.exp(1j*n*phi[i]))\n",
    "xm, ym = Ro*np.cos(phi), Ro*np.sin(phi)\n",
    "\n",
    "# Computing the incident field\n",
    "N = resolution[0]*resolution[1]\n",
    "dy, dx = Ly/resolution[0], Lx/resolution[1]\n",
    "x, y = np.meshgrid(np.arange(-Lx/2 + dx/2, Lx/2, dx), np.arange(-Ly/2 + dy/2, Ly/2, dy))\n",
    "rho, phi = cart2polar(x, y)\n",
    "Eiz = E0*np.exp(1j*kb*rho*np.cos(phi)).flatten()\n",
    "cell_area = np.sqrt(dx*dy/pi)\n",
    "\n",
    "# Data equation\n",
    "HD = np.zeros((M, N), dtype=complex)\n",
    "for m in range(M):\n",
    "    R = np.sqrt((x-xm[m])**2 + (y-ym[m])**2).flatten()\n",
    "    HD[m, :] = 1j*pi*kb*cell_area/2*jv(1, kb*cell_area)*hankel2(0, kb*R)\n",
    "\n",
    "# State Equation\n",
    "HS = np.zeros((N, N), dtype=complex)\n",
    "for k in range(N):\n",
    "    i, j = np.unravel_index(k, resolution)\n",
    "    R = np.sqrt((x-x[i, j])**2 + (y-y[i, j])**2).flatten()\n",
    "    HS[k, :] = 1j*pi*kb*cell_area/2*jv(1, kb*cell_area)*hankel2(0, kb*R)\n",
    "    HS[k, R==0] = 1j/2*(pi*kb*cell_area*hankel2(1, kb*cell_area)-2j)"
   ]
  },
  {
   "cell_type": "markdown",
   "metadata": {},
   "source": [
    "## MOPSO parameters\n",
    "\n",
    "The following parameters for the MOPSO algorithm will be considered:\n",
    "\n",
    "* Number of particles ($N_{PAR}$): 250;\n",
    "* Inertia weight ($w$): 0.4;\n",
    "* Acceleration coefficients ($c_1$, $c_2$): 2.0;\n",
    "* Maximum number of solutions in the Archive: 20;\n",
    "* Number of iterations: 20,000;"
   ]
  },
  {
   "cell_type": "code",
   "execution_count": 5,
   "metadata": {},
   "outputs": [],
   "source": [
    "NPAR = 250\n",
    "w = .4\n",
    "c1 = c2 = 2.0\n",
    "MAX_ARCHIVE = 20\n",
    "NITER = 20000"
   ]
  },
  {
   "cell_type": "markdown",
   "metadata": {},
   "source": [
    "## Initialization\n",
    "\n",
    "The particles will be initialized with random values. For contrast values ($\\chi$), we wil consider random values from a uniform distribution between 0 and 1; for electric field values, we will consider a standard normal distribution for real and imaginary parts. The velocity values will be zero in the first iteration."
   ]
  },
  {
   "cell_type": "code",
   "execution_count": 6,
   "metadata": {},
   "outputs": [],
   "source": [
    "NVAR = resolution[0]*resolution[1]  # Number of variables\n",
    "\n",
    "PX = rnd.rand(NPAR, NVAR)  # array of contrast particles\n",
    "PE = rnd.normal(size=(NPAR, NVAR)) + 1j*rnd.normal(size=(NPAR, NVAR))  # array of electric field particles\n",
    "vx = np.zeros((NPAR, NVAR), dtype=complex)  # array of contrast velocities\n",
    "ve = np.zeros((NPAR, NVAR), dtype=complex)  # array of electric field velocities\n",
    "fx = np.zeros((NPAR, 2))  # evaluation of each particle\n",
    "\n",
    "# Evaluate particles\n",
    "for i in range(NPAR):\n",
    "    X = dia_matrix((PX[i, :].flatten(), 0), shape=(N, N))\n",
    "    Ez = PE[i, :].flatten()\n",
    "    fx[i, 0], fx[i, 1] = feval(X, Ez, HD, HS, Esz, Eiz)\n",
    "\n",
    "# Personal best particles\n",
    "pxbest = np.zeros((NPAR, NVAR), dtype=complex)\n",
    "pebest = np.zeros((NPAR, NVAR), dtype=complex)\n",
    "fx_pbest = np.inf*np.ones(fx.shape) \n",
    "\n",
    "# Archive - Global best particles\n",
    "gxbest = []\n",
    "gebest = []\n",
    "fx_gbest = []"
   ]
  },
  {
   "cell_type": "markdown",
   "metadata": {},
   "source": [
    "## Running the algorithm\n",
    "\n",
    "When we implement the MOPSO algorithm, there are two common questions: (i) how do we update the personal best particles? (ii) How do we choose archive solutions for velocity update? There are many ways to implemment it and a lot of strategies. For the sake of simplicity, we are addressing the following rules:\n",
    "\n",
    "* We will update the personal best particle any time we obtain a new non-dominated solution;\n",
    "* We will choose randomly a single solution from the Archive to update each velocity array."
   ]
  },
  {
   "cell_type": "code",
   "execution_count": 7,
   "metadata": {},
   "outputs": [
    {
     "name": "stdout",
     "output_type": "stream",
     "text": [
      "Iterations: 1/20000\n",
      "Iterations: 2000/20000\n",
      "Iterations: 4000/20000\n",
      "Iterations: 6000/20000\n",
      "Iterations: 8000/20000\n",
      "Iterations: 10000/20000\n",
      "Iterations: 12000/20000\n",
      "Iterations: 14000/20000\n",
      "Iterations: 16000/20000\n",
      "Iterations: 18000/20000\n",
      "Iterations 20000/20000\n"
     ]
    }
   ],
   "source": [
    "for it in range(NITER):\n",
    "\n",
    "    # Update pbest\n",
    "    for n in range(NPAR):\n",
    "\n",
    "        # If it the new particle is a new non-dominated one\n",
    "        if not(fx[n, 0] >= fx_pbest[n, 0] and fx[n, 1] >= fx_pbest[n, 1]):\n",
    "            pxbest[n, :] = PX[n, :]\n",
    "            pebest[n, :] = PE[n, :]\n",
    "            fx_pbest[n, :] = fx[n, :]\n",
    "\n",
    "    # Update Archive\n",
    "    gxbest, gebest, fx_gbest = update_archive(PX, PE, fx, gxbest, gebest, fx_gbest, MAX_ARCHIVE)\n",
    "\n",
    "    # Calculate particle velocity\n",
    "    idx = rnd.randint(len(fx_gbest), size=NPAR)  # Random choice of solutions in the Archive\n",
    "    for n in range(NPAR):\n",
    "        vx[n, :] = w*vx[n, :] + c1*rnd.rand(1, NVAR)*(pxbest[n, :]-PX[n, :]) + c2*rnd.rand(1, NVAR)*(gxbest[idx[n]]-PX[n, :])\n",
    "        ve[n, :] = w*ve[n, :] + c1*rnd.rand(1, NVAR)*(pebest[n, :]-PE[n, :]) + c2*rnd.rand(1, NVAR)*(gebest[idx[n]]-PE[n, :])\n",
    "\n",
    "    # Update particle position\n",
    "    PX = PX + vx\n",
    "    PE = PE + ve\n",
    "\n",
    "    # Boundary condition for contrast\n",
    "    PX[PX < 0] = 0\n",
    "\n",
    "    # Update particle evalution\n",
    "    for i in range(NPAR):\n",
    "        X = dia_matrix((PX[i, :].flatten(), 0), shape=(N, N))\n",
    "        Ez = PE[i, :].flatten()\n",
    "        fx[i, 0], fx[i, 1] = feval(X, Ez, HD, HS, Esz, Eiz)  # Evaluate particles\n",
    "\n",
    "    if it == 0:\n",
    "        print('Iterations: 1/%d' % NITER)\n",
    "    elif it == NITER-1:\n",
    "        print('Iterations %d/' % NITER + '%d' % NITER)\n",
    "    elif NITER == 10 or (it+1) % (NITER/10) == 0:\n",
    "        print('Iterations: %d/' % (it+1) + '%d' % NITER)"
   ]
  },
  {
   "cell_type": "markdown",
   "metadata": {},
   "source": [
    "## Results\n",
    "\n",
    "The Pareto Frontier obtained at the end of the algorithm is shown below:"
   ]
  },
  {
   "cell_type": "code",
   "execution_count": 8,
   "metadata": {},
   "outputs": [
    {
     "data": {
      "image/png": "[encoded data removed]",
      "text/plain": [
       "<Figure size 432x288 with 1 Axes>"
      ]
     },
     "metadata": {
      "needs_background": "light"
     },
     "output_type": "display_data"
    }
   ],
   "source": [
    "pareto = np.zeros((2, len(fx_gbest)))\n",
    "\n",
    "for i in range(len(fx_gbest)):\n",
    "    pareto[0, i] = fx_gbest[i][0]\n",
    "    pareto[1, i] = fx_gbest[i][1]\n",
    "\n",
    "plt.plot(pareto[0, :], pareto[1, :], '--*')\n",
    "plt.xlabel(r'$f_0(x)$')\n",
    "plt.ylabel(r'$f_1(x)$')\n",
    "plt.title('Pareto Frontier')\n",
    "plt.grid()\n",
    "plt.show()"
   ]
  },
  {
   "cell_type": "markdown",
   "metadata": {},
   "source": [
    "And the contrast map of each solution in the Pareto Frontier is:"
   ]
  },
  {
   "cell_type": "code",
   "execution_count": 9,
   "metadata": {},
   "outputs": [
    {
     "data": {
      "image/png": "[encoded data removed]",
      "text/plain": [
       "<Figure size 1080x1080 with 24 Axes>"
      ]
     },
     "metadata": {
      "needs_background": "light"
     },
     "output_type": "display_data"
    }
   ],
   "source": [
    "nrows = int(np.ceil(np.sqrt(len(gxbest))))\n",
    "ncols = int(np.ceil((len(gxbest)/nrows)))\n",
    "\n",
    "fig, axis = plt.subplots(nrows=nrows, ncols=ncols, figsize=(15, 15), sharey=True, sharex=True)\n",
    "fig.subplots_adjust(hspace=.5, wspace=.5)\n",
    "axis = axis.flatten()\n",
    "\n",
    "for i in range(axis.size):\n",
    "\n",
    "    if i < len(gxbest):\n",
    "\n",
    "        sb1 = axis[i].imshow(np.abs(gxbest[i].reshape(resolution)), extent=[-2, 2, -2, 2], origin='lower')\n",
    "        axis[i].set_xlabel(r'x [$a$]')\n",
    "        axis[i].set_ylabel(r'y [$a$]')\n",
    "        axis[i].set_title('Contrast Map')\n",
    "        cbar1 = fig.colorbar(sb1, ax=axis[i])\n",
    "        cbar1.set_label(r'$|\\chi|$')\n",
    "\n",
    "    else:\n",
    "        axis[i].set_visible(False)\n",
    "\n",
    "plt.show()"
   ]
  },
  {
   "cell_type": "markdown",
   "metadata": {},
   "source": [
    "The algorithm seems to not succeed in identifying a scatter (shape and position).\n",
    "\n",
    "## Conclusions\n",
    "\n",
    "More executions and more problems would give support for a more robust conclusion, but these results do not seem to encourage the use of a multi-objective approach in this kind of formulation. Maybe it could work better in another kind of discretization or it would depend on a more specific implementation."
   ]
  }
 ],
 "metadata": {
  "kernelspec": {
   "display_name": "Python 3",
   "language": "python",
   "name": "python3"
  },
  "language_info": {
   "codemirror_mode": {
    "name": "ipython",
    "version": 3
   },
   "file_extension": ".py",
   "mimetype": "text/x-python",
   "name": "python",
   "nbconvert_exporter": "python",
   "pygments_lexer": "ipython3",
   "version": "3.8.3"
  }
 },
 "nbformat": 4,
 "nbformat_minor": 4
}
